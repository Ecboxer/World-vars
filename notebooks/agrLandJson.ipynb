{
 "cells": [
  {
   "cell_type": "markdown",
   "metadata": {},
   "source": [
    "Write agrLand.json  \n",
    "A json file with Country, cropland cover, tree canopy cover, agricultural land, and continent for all countries in World_vars"
   ]
  },
  {
   "cell_type": "code",
   "execution_count": 2,
   "metadata": {},
   "outputs": [],
   "source": [
    "import pandas as pd"
   ]
  },
  {
   "cell_type": "code",
   "execution_count": 4,
   "metadata": {},
   "outputs": [],
   "source": [
    "df = pd.read_pickle('../resources/World_vars.pkl')"
   ]
  },
  {
   "cell_type": "code",
   "execution_count": 5,
   "metadata": {},
   "outputs": [
    {
     "data": {
      "text/html": [
       "<div>\n",
       "<style scoped>\n",
       "    .dataframe tbody tr th:only-of-type {\n",
       "        vertical-align: middle;\n",
       "    }\n",
       "\n",
       "    .dataframe tbody tr th {\n",
       "        vertical-align: top;\n",
       "    }\n",
       "\n",
       "    .dataframe thead th {\n",
       "        text-align: right;\n",
       "    }\n",
       "</style>\n",
       "<table border=\"1\" class=\"dataframe\">\n",
       "  <thead>\n",
       "    <tr style=\"text-align: right;\">\n",
       "      <th></th>\n",
       "      <th>Country</th>\n",
       "      <th>accessibility_to_cities</th>\n",
       "      <th>elevation</th>\n",
       "      <th>aspect</th>\n",
       "      <th>slope</th>\n",
       "      <th>cropland_cover</th>\n",
       "      <th>tree_canopy_cover</th>\n",
       "      <th>isothermality</th>\n",
       "      <th>rain_coldestQuart</th>\n",
       "      <th>rain_driestMonth</th>\n",
       "      <th>...</th>\n",
       "      <th>temp_max_warmestMonth</th>\n",
       "      <th>temp_mean_annual</th>\n",
       "      <th>temp_min_coldestMonth</th>\n",
       "      <th>temp_seasonality</th>\n",
       "      <th>temp_warmestQuart</th>\n",
       "      <th>temp_wettestQuart</th>\n",
       "      <th>sub-region</th>\n",
       "      <th>Continent</th>\n",
       "      <th>Continent_color</th>\n",
       "      <th>Agr_land</th>\n",
       "    </tr>\n",
       "  </thead>\n",
       "  <tbody>\n",
       "    <tr>\n",
       "      <th>0</th>\n",
       "      <td>Russia</td>\n",
       "      <td>2143.587912</td>\n",
       "      <td>448.533542</td>\n",
       "      <td>178.456969</td>\n",
       "      <td>0.486310</td>\n",
       "      <td>7.381210</td>\n",
       "      <td>20.356473</td>\n",
       "      <td>19.351714</td>\n",
       "      <td>63.279186</td>\n",
       "      <td>15.345187</td>\n",
       "      <td>...</td>\n",
       "      <td>19.952679</td>\n",
       "      <td>-6.261876</td>\n",
       "      <td>-30.678512</td>\n",
       "      <td>145.221422</td>\n",
       "      <td>12.206959</td>\n",
       "      <td>11.549561</td>\n",
       "      <td>Eastern Europe</td>\n",
       "      <td>Europe</td>\n",
       "      <td>xkcd:blue</td>\n",
       "      <td>2177218.0</td>\n",
       "    </tr>\n",
       "    <tr>\n",
       "      <th>1</th>\n",
       "      <td>United States of America</td>\n",
       "      <td>638.757539</td>\n",
       "      <td>759.251226</td>\n",
       "      <td>166.560382</td>\n",
       "      <td>0.529687</td>\n",
       "      <td>19.743870</td>\n",
       "      <td>16.728462</td>\n",
       "      <td>32.952882</td>\n",
       "      <td>141.820680</td>\n",
       "      <td>28.787362</td>\n",
       "      <td>...</td>\n",
       "      <td>26.776731</td>\n",
       "      <td>6.602248</td>\n",
       "      <td>-12.277065</td>\n",
       "      <td>93.460602</td>\n",
       "      <td>18.518984</td>\n",
       "      <td>13.579272</td>\n",
       "      <td>Northern America</td>\n",
       "      <td>North America</td>\n",
       "      <td>xkcd:yellow</td>\n",
       "      <td>4058625.0</td>\n",
       "    </tr>\n",
       "    <tr>\n",
       "      <th>2</th>\n",
       "      <td>Canada</td>\n",
       "      <td>3220.715175</td>\n",
       "      <td>508.284763</td>\n",
       "      <td>169.290792</td>\n",
       "      <td>0.397220</td>\n",
       "      <td>3.796340</td>\n",
       "      <td>20.587476</td>\n",
       "      <td>19.862863</td>\n",
       "      <td>80.937465</td>\n",
       "      <td>19.612252</td>\n",
       "      <td>...</td>\n",
       "      <td>16.428661</td>\n",
       "      <td>-6.831690</td>\n",
       "      <td>-29.535063</td>\n",
       "      <td>128.934783</td>\n",
       "      <td>9.503740</td>\n",
       "      <td>7.649331</td>\n",
       "      <td>Northern America</td>\n",
       "      <td>North America</td>\n",
       "      <td>xkcd:yellow</td>\n",
       "      <td>626562.0</td>\n",
       "    </tr>\n",
       "    <tr>\n",
       "      <th>3</th>\n",
       "      <td>Antarctica</td>\n",
       "      <td>0.000000</td>\n",
       "      <td>0.000000</td>\n",
       "      <td>0.000000</td>\n",
       "      <td>0.000000</td>\n",
       "      <td>0.000000</td>\n",
       "      <td>0.000000</td>\n",
       "      <td>0.000000</td>\n",
       "      <td>0.000000</td>\n",
       "      <td>0.000000</td>\n",
       "      <td>...</td>\n",
       "      <td>0.000000</td>\n",
       "      <td>0.000000</td>\n",
       "      <td>0.000000</td>\n",
       "      <td>0.000000</td>\n",
       "      <td>0.000000</td>\n",
       "      <td>0.000000</td>\n",
       "      <td>Antarctica</td>\n",
       "      <td>Antarctica</td>\n",
       "      <td>xkcd:grey</td>\n",
       "      <td>0.0</td>\n",
       "    </tr>\n",
       "    <tr>\n",
       "      <th>4</th>\n",
       "      <td>Indonesia</td>\n",
       "      <td>504.884807</td>\n",
       "      <td>342.053688</td>\n",
       "      <td>168.270799</td>\n",
       "      <td>0.909755</td>\n",
       "      <td>13.240866</td>\n",
       "      <td>55.478882</td>\n",
       "      <td>84.942402</td>\n",
       "      <td>673.078720</td>\n",
       "      <td>136.174030</td>\n",
       "      <td>...</td>\n",
       "      <td>30.133801</td>\n",
       "      <td>24.993327</td>\n",
       "      <td>20.129455</td>\n",
       "      <td>4.163968</td>\n",
       "      <td>25.392019</td>\n",
       "      <td>24.934237</td>\n",
       "      <td>South-eastern Asia</td>\n",
       "      <td>Asia</td>\n",
       "      <td>xkcd:red</td>\n",
       "      <td>570000.0</td>\n",
       "    </tr>\n",
       "  </tbody>\n",
       "</table>\n",
       "<p>5 rows × 30 columns</p>\n",
       "</div>"
      ],
      "text/plain": [
       "                    Country  accessibility_to_cities   elevation      aspect  \\\n",
       "0                    Russia              2143.587912  448.533542  178.456969   \n",
       "1  United States of America               638.757539  759.251226  166.560382   \n",
       "2                    Canada              3220.715175  508.284763  169.290792   \n",
       "3                Antarctica                 0.000000    0.000000    0.000000   \n",
       "4                 Indonesia               504.884807  342.053688  168.270799   \n",
       "\n",
       "      slope  cropland_cover  tree_canopy_cover  isothermality  \\\n",
       "0  0.486310        7.381210          20.356473      19.351714   \n",
       "1  0.529687       19.743870          16.728462      32.952882   \n",
       "2  0.397220        3.796340          20.587476      19.862863   \n",
       "3  0.000000        0.000000           0.000000       0.000000   \n",
       "4  0.909755       13.240866          55.478882      84.942402   \n",
       "\n",
       "   rain_coldestQuart  rain_driestMonth    ...      temp_max_warmestMonth  \\\n",
       "0          63.279186         15.345187    ...                  19.952679   \n",
       "1         141.820680         28.787362    ...                  26.776731   \n",
       "2          80.937465         19.612252    ...                  16.428661   \n",
       "3           0.000000          0.000000    ...                   0.000000   \n",
       "4         673.078720        136.174030    ...                  30.133801   \n",
       "\n",
       "   temp_mean_annual  temp_min_coldestMonth  temp_seasonality  \\\n",
       "0         -6.261876             -30.678512        145.221422   \n",
       "1          6.602248             -12.277065         93.460602   \n",
       "2         -6.831690             -29.535063        128.934783   \n",
       "3          0.000000               0.000000          0.000000   \n",
       "4         24.993327              20.129455          4.163968   \n",
       "\n",
       "   temp_warmestQuart  temp_wettestQuart          sub-region      Continent  \\\n",
       "0          12.206959          11.549561      Eastern Europe         Europe   \n",
       "1          18.518984          13.579272    Northern America  North America   \n",
       "2           9.503740           7.649331    Northern America  North America   \n",
       "3           0.000000           0.000000          Antarctica     Antarctica   \n",
       "4          25.392019          24.934237  South-eastern Asia           Asia   \n",
       "\n",
       "   Continent_color   Agr_land  \n",
       "0        xkcd:blue  2177218.0  \n",
       "1      xkcd:yellow  4058625.0  \n",
       "2      xkcd:yellow   626562.0  \n",
       "3        xkcd:grey        0.0  \n",
       "4         xkcd:red   570000.0  \n",
       "\n",
       "[5 rows x 30 columns]"
      ]
     },
     "execution_count": 5,
     "metadata": {},
     "output_type": "execute_result"
    }
   ],
   "source": [
    "df.head()"
   ]
  },
  {
   "cell_type": "code",
   "execution_count": 6,
   "metadata": {},
   "outputs": [
    {
     "data": {
      "text/plain": [
       "Index(['Country', 'accessibility_to_cities', 'elevation', 'aspect', 'slope',\n",
       "       'cropland_cover', 'tree_canopy_cover', 'isothermality',\n",
       "       'rain_coldestQuart', 'rain_driestMonth', 'rain_driestQuart',\n",
       "       'rain_mean_annual', 'rain_seasonailty', 'rain_warmestQuart',\n",
       "       'rain_wettestMonth', 'rain_wettestQuart', 'temp_annual_range',\n",
       "       'temp_coldestQuart', 'temp_diurnal_range', 'temp_driestQuart',\n",
       "       'temp_max_warmestMonth', 'temp_mean_annual', 'temp_min_coldestMonth',\n",
       "       'temp_seasonality', 'temp_warmestQuart', 'temp_wettestQuart',\n",
       "       'sub-region', 'Continent', 'Continent_color', 'Agr_land'],\n",
       "      dtype='object')"
      ]
     },
     "execution_count": 6,
     "metadata": {},
     "output_type": "execute_result"
    }
   ],
   "source": [
    "df.columns"
   ]
  },
  {
   "cell_type": "code",
   "execution_count": 7,
   "metadata": {},
   "outputs": [
    {
     "data": {
      "text/html": [
       "<div>\n",
       "<style scoped>\n",
       "    .dataframe tbody tr th:only-of-type {\n",
       "        vertical-align: middle;\n",
       "    }\n",
       "\n",
       "    .dataframe tbody tr th {\n",
       "        vertical-align: top;\n",
       "    }\n",
       "\n",
       "    .dataframe thead th {\n",
       "        text-align: right;\n",
       "    }\n",
       "</style>\n",
       "<table border=\"1\" class=\"dataframe\">\n",
       "  <thead>\n",
       "    <tr style=\"text-align: right;\">\n",
       "      <th></th>\n",
       "      <th>Country</th>\n",
       "      <th>cropland_cover</th>\n",
       "      <th>tree_canopy_cover</th>\n",
       "      <th>Agr_land</th>\n",
       "      <th>Continent</th>\n",
       "    </tr>\n",
       "  </thead>\n",
       "  <tbody>\n",
       "    <tr>\n",
       "      <th>0</th>\n",
       "      <td>Russia</td>\n",
       "      <td>7.381210</td>\n",
       "      <td>20.356473</td>\n",
       "      <td>2177218.0</td>\n",
       "      <td>Europe</td>\n",
       "    </tr>\n",
       "    <tr>\n",
       "      <th>1</th>\n",
       "      <td>United States of America</td>\n",
       "      <td>19.743870</td>\n",
       "      <td>16.728462</td>\n",
       "      <td>4058625.0</td>\n",
       "      <td>North America</td>\n",
       "    </tr>\n",
       "    <tr>\n",
       "      <th>2</th>\n",
       "      <td>Canada</td>\n",
       "      <td>3.796340</td>\n",
       "      <td>20.587476</td>\n",
       "      <td>626562.0</td>\n",
       "      <td>North America</td>\n",
       "    </tr>\n",
       "    <tr>\n",
       "      <th>3</th>\n",
       "      <td>Antarctica</td>\n",
       "      <td>0.000000</td>\n",
       "      <td>0.000000</td>\n",
       "      <td>0.0</td>\n",
       "      <td>Antarctica</td>\n",
       "    </tr>\n",
       "    <tr>\n",
       "      <th>4</th>\n",
       "      <td>Indonesia</td>\n",
       "      <td>13.240866</td>\n",
       "      <td>55.478882</td>\n",
       "      <td>570000.0</td>\n",
       "      <td>Asia</td>\n",
       "    </tr>\n",
       "  </tbody>\n",
       "</table>\n",
       "</div>"
      ],
      "text/plain": [
       "                    Country  cropland_cover  tree_canopy_cover   Agr_land  \\\n",
       "0                    Russia        7.381210          20.356473  2177218.0   \n",
       "1  United States of America       19.743870          16.728462  4058625.0   \n",
       "2                    Canada        3.796340          20.587476   626562.0   \n",
       "3                Antarctica        0.000000           0.000000        0.0   \n",
       "4                 Indonesia       13.240866          55.478882   570000.0   \n",
       "\n",
       "       Continent  \n",
       "0         Europe  \n",
       "1  North America  \n",
       "2  North America  \n",
       "3     Antarctica  \n",
       "4           Asia  "
      ]
     },
     "execution_count": 7,
     "metadata": {},
     "output_type": "execute_result"
    }
   ],
   "source": [
    "df_a = df[['Country', 'cropland_cover', 'tree_canopy_cover', 'Agr_land', 'Continent']]\n",
    "df_a.head()"
   ]
  },
  {
   "cell_type": "code",
   "execution_count": 8,
   "metadata": {},
   "outputs": [
    {
     "data": {
      "text/plain": [
       "(243, 5)"
      ]
     },
     "execution_count": 8,
     "metadata": {},
     "output_type": "execute_result"
    }
   ],
   "source": [
    "df_a.shape"
   ]
  },
  {
   "cell_type": "code",
   "execution_count": 9,
   "metadata": {},
   "outputs": [
    {
     "data": {
      "text/plain": [
       "Country              243\n",
       "cropland_cover       243\n",
       "tree_canopy_cover    243\n",
       "Agr_land             243\n",
       "Continent            243\n",
       "dtype: int64"
      ]
     },
     "execution_count": 9,
     "metadata": {},
     "output_type": "execute_result"
    }
   ],
   "source": [
    "df_a[df_a.notnull()].count()"
   ]
  },
  {
   "cell_type": "code",
   "execution_count": 10,
   "metadata": {},
   "outputs": [],
   "source": [
    "df_a.to_json('../resources/agrLand.json', orient='records')"
   ]
  }
 ],
 "metadata": {
  "kernelspec": {
   "display_name": "Python 3",
   "language": "python",
   "name": "python3"
  },
  "language_info": {
   "codemirror_mode": {
    "name": "ipython",
    "version": 3
   },
   "file_extension": ".py",
   "mimetype": "text/x-python",
   "name": "python",
   "nbconvert_exporter": "python",
   "pygments_lexer": "ipython3",
   "version": "3.6.6"
  }
 },
 "nbformat": 4,
 "nbformat_minor": 2
}
